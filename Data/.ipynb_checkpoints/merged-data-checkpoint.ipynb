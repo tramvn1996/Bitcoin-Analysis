{
 "cells": [
  {
   "cell_type": "code",
   "execution_count": 18,
   "metadata": {
    "collapsed": true
   },
   "outputs": [],
   "source": [
    "import pandas as pd\n",
    "from functools import reduce\n"
   ]
  },
  {
   "cell_type": "code",
   "execution_count": 4,
   "metadata": {
    "collapsed": true
   },
   "outputs": [],
   "source": [
    "b = pd.read_csv(\"btc_apr4.csv\", index_col=False)"
   ]
  },
  {
   "cell_type": "code",
   "execution_count": 5,
   "metadata": {
    "collapsed": false
   },
   "outputs": [
    {
     "data": {
      "text/html": [
       "<div>\n",
       "<table border=\"1\" class=\"dataframe\">\n",
       "  <thead>\n",
       "    <tr style=\"text-align: right;\">\n",
       "      <th></th>\n",
       "      <th>date</th>\n",
       "      <th>txVolume(USD)</th>\n",
       "      <th>txCount</th>\n",
       "      <th>marketcap(USD)</th>\n",
       "      <th>price(USD)</th>\n",
       "      <th>exchangeVolume(USD)</th>\n",
       "      <th>generatedCoins</th>\n",
       "      <th>fees</th>\n",
       "      <th>activeAddresses</th>\n",
       "    </tr>\n",
       "  </thead>\n",
       "  <tbody>\n",
       "    <tr>\n",
       "      <th>0</th>\n",
       "      <td>2013-05-01</td>\n",
       "      <td>1.086597e+08</td>\n",
       "      <td>52443</td>\n",
       "      <td>1.542820e+09</td>\n",
       "      <td>139.00</td>\n",
       "      <td>0.0</td>\n",
       "      <td>3575.0</td>\n",
       "      <td>36.806000</td>\n",
       "      <td>null</td>\n",
       "    </tr>\n",
       "    <tr>\n",
       "      <th>1</th>\n",
       "      <td>2013-05-02</td>\n",
       "      <td>9.695852e+07</td>\n",
       "      <td>55169</td>\n",
       "      <td>1.292190e+09</td>\n",
       "      <td>116.38</td>\n",
       "      <td>0.0</td>\n",
       "      <td>3425.0</td>\n",
       "      <td>54.407916</td>\n",
       "      <td>null</td>\n",
       "    </tr>\n",
       "    <tr>\n",
       "      <th>2</th>\n",
       "      <td>2013-05-03</td>\n",
       "      <td>8.445970e+07</td>\n",
       "      <td>55636</td>\n",
       "      <td>1.180070e+09</td>\n",
       "      <td>106.25</td>\n",
       "      <td>0.0</td>\n",
       "      <td>3650.0</td>\n",
       "      <td>48.526772</td>\n",
       "      <td>null</td>\n",
       "    </tr>\n",
       "    <tr>\n",
       "      <th>3</th>\n",
       "      <td>2013-05-04</td>\n",
       "      <td>4.154584e+07</td>\n",
       "      <td>48595</td>\n",
       "      <td>1.089890e+09</td>\n",
       "      <td>98.10</td>\n",
       "      <td>0.0</td>\n",
       "      <td>3900.0</td>\n",
       "      <td>43.419694</td>\n",
       "      <td>null</td>\n",
       "    </tr>\n",
       "    <tr>\n",
       "      <th>4</th>\n",
       "      <td>2013-05-05</td>\n",
       "      <td>5.620593e+07</td>\n",
       "      <td>49907</td>\n",
       "      <td>1.254760e+09</td>\n",
       "      <td>112.90</td>\n",
       "      <td>0.0</td>\n",
       "      <td>3875.0</td>\n",
       "      <td>38.408956</td>\n",
       "      <td>null</td>\n",
       "    </tr>\n",
       "  </tbody>\n",
       "</table>\n",
       "</div>"
      ],
      "text/plain": [
       "         date  txVolume(USD)  txCount  marketcap(USD)  price(USD)  \\\n",
       "0  2013-05-01   1.086597e+08    52443    1.542820e+09      139.00   \n",
       "1  2013-05-02   9.695852e+07    55169    1.292190e+09      116.38   \n",
       "2  2013-05-03   8.445970e+07    55636    1.180070e+09      106.25   \n",
       "3  2013-05-04   4.154584e+07    48595    1.089890e+09       98.10   \n",
       "4  2013-05-05   5.620593e+07    49907    1.254760e+09      112.90   \n",
       "\n",
       "   exchangeVolume(USD)  generatedCoins       fees activeAddresses  \n",
       "0                  0.0          3575.0  36.806000            null  \n",
       "1                  0.0          3425.0  54.407916            null  \n",
       "2                  0.0          3650.0  48.526772            null  \n",
       "3                  0.0          3900.0  43.419694            null  \n",
       "4                  0.0          3875.0  38.408956            null  "
      ]
     },
     "execution_count": 5,
     "metadata": {},
     "output_type": "execute_result"
    }
   ],
   "source": [
    "b.head()"
   ]
  },
  {
   "cell_type": "code",
   "execution_count": 6,
   "metadata": {
    "collapsed": true
   },
   "outputs": [],
   "source": [
    "e = pd.read_csv(\"eth_apr4.csv\", index_col=False)\n",
    "bch = pd.read_csv(\"bch_apr4.csv\", index_col=False)\n",
    "l = pd.read_csv(\"ltc_apr4.csv\", index_col=False)\n"
   ]
  },
  {
   "cell_type": "code",
   "execution_count": 8,
   "metadata": {
    "collapsed": false
   },
   "outputs": [
    {
     "data": {
      "text/html": [
       "<div>\n",
       "<table border=\"1\" class=\"dataframe\">\n",
       "  <thead>\n",
       "    <tr style=\"text-align: right;\">\n",
       "      <th></th>\n",
       "      <th>date</th>\n",
       "      <th>txVolume(USD)</th>\n",
       "      <th>txCount</th>\n",
       "      <th>marketcap(USD)</th>\n",
       "      <th>price(USD)</th>\n",
       "      <th>exchangeVolume(USD)</th>\n",
       "      <th>generatedCoins</th>\n",
       "      <th>fees</th>\n",
       "      <th>activeAddresses</th>\n",
       "    </tr>\n",
       "  </thead>\n",
       "  <tbody>\n",
       "    <tr>\n",
       "      <th>964</th>\n",
       "      <td>2018-03-31</td>\n",
       "      <td>5.945374e+08</td>\n",
       "      <td>584396</td>\n",
       "      <td>3.891490e+10</td>\n",
       "      <td>395.00</td>\n",
       "      <td>1.323920e+09</td>\n",
       "      <td>20460.84375</td>\n",
       "      <td>281.163320</td>\n",
       "      <td>259652</td>\n",
       "    </tr>\n",
       "    <tr>\n",
       "      <th>965</th>\n",
       "      <td>2018-04-01</td>\n",
       "      <td>5.041092e+08</td>\n",
       "      <td>545141</td>\n",
       "      <td>3.914470e+10</td>\n",
       "      <td>397.25</td>\n",
       "      <td>1.256930e+09</td>\n",
       "      <td>20205.00000</td>\n",
       "      <td>250.986522</td>\n",
       "      <td>242923</td>\n",
       "    </tr>\n",
       "    <tr>\n",
       "      <th>966</th>\n",
       "      <td>2018-04-02</td>\n",
       "      <td>5.470639e+08</td>\n",
       "      <td>598505</td>\n",
       "      <td>3.742250e+10</td>\n",
       "      <td>379.70</td>\n",
       "      <td>1.102260e+09</td>\n",
       "      <td>20465.25000</td>\n",
       "      <td>308.536535</td>\n",
       "      <td>273668</td>\n",
       "    </tr>\n",
       "    <tr>\n",
       "      <th>967</th>\n",
       "      <td>2018-04-03</td>\n",
       "      <td>6.490071e+08</td>\n",
       "      <td>645977</td>\n",
       "      <td>3.818080e+10</td>\n",
       "      <td>387.31</td>\n",
       "      <td>1.363400e+09</td>\n",
       "      <td>20389.59375</td>\n",
       "      <td>332.168332</td>\n",
       "      <td>297312</td>\n",
       "    </tr>\n",
       "    <tr>\n",
       "      <th>968</th>\n",
       "      <td>2018-04-04</td>\n",
       "      <td>6.546792e+08</td>\n",
       "      <td>628441</td>\n",
       "      <td>4.106510e+10</td>\n",
       "      <td>416.49</td>\n",
       "      <td>1.287730e+09</td>\n",
       "      <td>20299.68750</td>\n",
       "      <td>283.251215</td>\n",
       "      <td>278603</td>\n",
       "    </tr>\n",
       "  </tbody>\n",
       "</table>\n",
       "</div>"
      ],
      "text/plain": [
       "           date  txVolume(USD)  txCount  marketcap(USD)  price(USD)  \\\n",
       "964  2018-03-31   5.945374e+08   584396    3.891490e+10      395.00   \n",
       "965  2018-04-01   5.041092e+08   545141    3.914470e+10      397.25   \n",
       "966  2018-04-02   5.470639e+08   598505    3.742250e+10      379.70   \n",
       "967  2018-04-03   6.490071e+08   645977    3.818080e+10      387.31   \n",
       "968  2018-04-04   6.546792e+08   628441    4.106510e+10      416.49   \n",
       "\n",
       "     exchangeVolume(USD)  generatedCoins        fees  activeAddresses  \n",
       "964         1.323920e+09     20460.84375  281.163320           259652  \n",
       "965         1.256930e+09     20205.00000  250.986522           242923  \n",
       "966         1.102260e+09     20465.25000  308.536535           273668  \n",
       "967         1.363400e+09     20389.59375  332.168332           297312  \n",
       "968         1.287730e+09     20299.68750  283.251215           278603  "
      ]
     },
     "execution_count": 8,
     "metadata": {},
     "output_type": "execute_result"
    }
   ],
   "source": [
    "e.tail()"
   ]
  },
  {
   "cell_type": "code",
   "execution_count": 10,
   "metadata": {
    "collapsed": false
   },
   "outputs": [
    {
     "data": {
      "text/html": [
       "<div>\n",
       "<table border=\"1\" class=\"dataframe\">\n",
       "  <thead>\n",
       "    <tr style=\"text-align: right;\">\n",
       "      <th></th>\n",
       "      <th>date</th>\n",
       "      <th>txVolume(USD)</th>\n",
       "      <th>txCount</th>\n",
       "      <th>marketcap(USD)</th>\n",
       "      <th>price(USD)</th>\n",
       "      <th>exchangeVolume(USD)</th>\n",
       "      <th>generatedCoins</th>\n",
       "      <th>fees</th>\n",
       "      <th>activeAddresses</th>\n",
       "    </tr>\n",
       "  </thead>\n",
       "  <tbody>\n",
       "    <tr>\n",
       "      <th>964</th>\n",
       "      <td>2018-03-31</td>\n",
       "      <td>5.945374e+08</td>\n",
       "      <td>584396</td>\n",
       "      <td>3.891490e+10</td>\n",
       "      <td>395.00</td>\n",
       "      <td>1.323920e+09</td>\n",
       "      <td>20460.84375</td>\n",
       "      <td>281.163320</td>\n",
       "      <td>259652</td>\n",
       "    </tr>\n",
       "    <tr>\n",
       "      <th>965</th>\n",
       "      <td>2018-04-01</td>\n",
       "      <td>5.041092e+08</td>\n",
       "      <td>545141</td>\n",
       "      <td>3.914470e+10</td>\n",
       "      <td>397.25</td>\n",
       "      <td>1.256930e+09</td>\n",
       "      <td>20205.00000</td>\n",
       "      <td>250.986522</td>\n",
       "      <td>242923</td>\n",
       "    </tr>\n",
       "    <tr>\n",
       "      <th>966</th>\n",
       "      <td>2018-04-02</td>\n",
       "      <td>5.470639e+08</td>\n",
       "      <td>598505</td>\n",
       "      <td>3.742250e+10</td>\n",
       "      <td>379.70</td>\n",
       "      <td>1.102260e+09</td>\n",
       "      <td>20465.25000</td>\n",
       "      <td>308.536535</td>\n",
       "      <td>273668</td>\n",
       "    </tr>\n",
       "    <tr>\n",
       "      <th>967</th>\n",
       "      <td>2018-04-03</td>\n",
       "      <td>6.490071e+08</td>\n",
       "      <td>645977</td>\n",
       "      <td>3.818080e+10</td>\n",
       "      <td>387.31</td>\n",
       "      <td>1.363400e+09</td>\n",
       "      <td>20389.59375</td>\n",
       "      <td>332.168332</td>\n",
       "      <td>297312</td>\n",
       "    </tr>\n",
       "    <tr>\n",
       "      <th>968</th>\n",
       "      <td>2018-04-04</td>\n",
       "      <td>6.546792e+08</td>\n",
       "      <td>628441</td>\n",
       "      <td>4.106510e+10</td>\n",
       "      <td>416.49</td>\n",
       "      <td>1.287730e+09</td>\n",
       "      <td>20299.68750</td>\n",
       "      <td>283.251215</td>\n",
       "      <td>278603</td>\n",
       "    </tr>\n",
       "  </tbody>\n",
       "</table>\n",
       "</div>"
      ],
      "text/plain": [
       "           date  txVolume(USD)  txCount  marketcap(USD)  price(USD)  \\\n",
       "964  2018-03-31   5.945374e+08   584396    3.891490e+10      395.00   \n",
       "965  2018-04-01   5.041092e+08   545141    3.914470e+10      397.25   \n",
       "966  2018-04-02   5.470639e+08   598505    3.742250e+10      379.70   \n",
       "967  2018-04-03   6.490071e+08   645977    3.818080e+10      387.31   \n",
       "968  2018-04-04   6.546792e+08   628441    4.106510e+10      416.49   \n",
       "\n",
       "     exchangeVolume(USD)  generatedCoins        fees  activeAddresses  \n",
       "964         1.323920e+09     20460.84375  281.163320           259652  \n",
       "965         1.256930e+09     20205.00000  250.986522           242923  \n",
       "966         1.102260e+09     20465.25000  308.536535           273668  \n",
       "967         1.363400e+09     20389.59375  332.168332           297312  \n",
       "968         1.287730e+09     20299.68750  283.251215           278603  "
      ]
     },
     "execution_count": 10,
     "metadata": {},
     "output_type": "execute_result"
    }
   ],
   "source": [
    "e.tail()"
   ]
  },
  {
   "cell_type": "code",
   "execution_count": 14,
   "metadata": {
    "collapsed": false
   },
   "outputs": [],
   "source": [
    "e.columns = [str(col) + '_e' for col in e.columns]\n",
    "bch.columns = [str(col) + '_bch' for col in bch.columns]\n",
    "l.columns = [str(col) + '_l' for col in l.columns]"
   ]
  },
  {
   "cell_type": "code",
   "execution_count": 15,
   "metadata": {
    "collapsed": false
   },
   "outputs": [
    {
     "data": {
      "text/html": [
       "<div>\n",
       "<table border=\"1\" class=\"dataframe\">\n",
       "  <thead>\n",
       "    <tr style=\"text-align: right;\">\n",
       "      <th></th>\n",
       "      <th>date_e_e</th>\n",
       "      <th>txVolume(USD)_e_e</th>\n",
       "      <th>txCount_e_e</th>\n",
       "      <th>marketcap(USD)_e_e</th>\n",
       "      <th>price(USD)_e_e</th>\n",
       "      <th>exchangeVolume(USD)_e_e</th>\n",
       "      <th>generatedCoins_e_e</th>\n",
       "      <th>fees_e_e</th>\n",
       "      <th>activeAddresses_e_e</th>\n",
       "    </tr>\n",
       "  </thead>\n",
       "  <tbody>\n",
       "    <tr>\n",
       "      <th>0</th>\n",
       "      <td>2015-08-10</td>\n",
       "      <td>1.193011e+06</td>\n",
       "      <td>1999</td>\n",
       "      <td>43130000.0</td>\n",
       "      <td>0.713989</td>\n",
       "      <td>405283.0</td>\n",
       "      <td>27817.34375</td>\n",
       "      <td>31.165144</td>\n",
       "      <td>1001</td>\n",
       "    </tr>\n",
       "    <tr>\n",
       "      <th>1</th>\n",
       "      <td>2015-08-11</td>\n",
       "      <td>1.051922e+06</td>\n",
       "      <td>4945</td>\n",
       "      <td>42796500.0</td>\n",
       "      <td>0.708087</td>\n",
       "      <td>1463100.0</td>\n",
       "      <td>28027.81250</td>\n",
       "      <td>11.311449</td>\n",
       "      <td>2342</td>\n",
       "    </tr>\n",
       "    <tr>\n",
       "      <th>2</th>\n",
       "      <td>2015-08-12</td>\n",
       "      <td>7.923327e+05</td>\n",
       "      <td>1993</td>\n",
       "      <td>64018400.0</td>\n",
       "      <td>1.060000</td>\n",
       "      <td>2150620.0</td>\n",
       "      <td>27370.93750</td>\n",
       "      <td>32.586992</td>\n",
       "      <td>906</td>\n",
       "    </tr>\n",
       "    <tr>\n",
       "      <th>3</th>\n",
       "      <td>2015-08-13</td>\n",
       "      <td>2.181179e+06</td>\n",
       "      <td>2807</td>\n",
       "      <td>73935400.0</td>\n",
       "      <td>1.220000</td>\n",
       "      <td>4068680.0</td>\n",
       "      <td>28268.12500</td>\n",
       "      <td>24.929169</td>\n",
       "      <td>1274</td>\n",
       "    </tr>\n",
       "    <tr>\n",
       "      <th>4</th>\n",
       "      <td>2015-08-14</td>\n",
       "      <td>4.154763e+06</td>\n",
       "      <td>3144</td>\n",
       "      <td>109594000.0</td>\n",
       "      <td>1.810000</td>\n",
       "      <td>4637030.0</td>\n",
       "      <td>31106.71875</td>\n",
       "      <td>14.354834</td>\n",
       "      <td>1594</td>\n",
       "    </tr>\n",
       "  </tbody>\n",
       "</table>\n",
       "</div>"
      ],
      "text/plain": [
       "     date_e_e  txVolume(USD)_e_e  txCount_e_e  marketcap(USD)_e_e  \\\n",
       "0  2015-08-10       1.193011e+06         1999          43130000.0   \n",
       "1  2015-08-11       1.051922e+06         4945          42796500.0   \n",
       "2  2015-08-12       7.923327e+05         1993          64018400.0   \n",
       "3  2015-08-13       2.181179e+06         2807          73935400.0   \n",
       "4  2015-08-14       4.154763e+06         3144         109594000.0   \n",
       "\n",
       "   price(USD)_e_e  exchangeVolume(USD)_e_e  generatedCoins_e_e   fees_e_e  \\\n",
       "0        0.713989                 405283.0         27817.34375  31.165144   \n",
       "1        0.708087                1463100.0         28027.81250  11.311449   \n",
       "2        1.060000                2150620.0         27370.93750  32.586992   \n",
       "3        1.220000                4068680.0         28268.12500  24.929169   \n",
       "4        1.810000                4637030.0         31106.71875  14.354834   \n",
       "\n",
       "   activeAddresses_e_e  \n",
       "0                 1001  \n",
       "1                 2342  \n",
       "2                  906  \n",
       "3                 1274  \n",
       "4                 1594  "
      ]
     },
     "execution_count": 15,
     "metadata": {},
     "output_type": "execute_result"
    }
   ],
   "source": [
    "e.head()"
   ]
  },
  {
   "cell_type": "code",
   "execution_count": 16,
   "metadata": {
    "collapsed": true
   },
   "outputs": [],
   "source": [
    "#rename date columns\n",
    "e.rename(columns={'date_e_e':'date'}, inplace=True)\n",
    "bch.rename(columns={'date_bch':'date'}, inplace=True)\n",
    "l.rename(columns={'date_l':'date'}, inplace=True)"
   ]
  },
  {
   "cell_type": "code",
   "execution_count": 25,
   "metadata": {
    "collapsed": false
   },
   "outputs": [],
   "source": [
    "dfs = [b, e, l]\n",
    "df_final = reduce(lambda left,right: pd.merge(left,right,on='date'), dfs)\n"
   ]
  },
  {
   "cell_type": "code",
   "execution_count": null,
   "metadata": {
    "collapsed": true
   },
   "outputs": [],
   "source": []
  }
 ],
 "metadata": {
  "kernelspec": {
   "display_name": "Python 3",
   "language": "python",
   "name": "python3"
  },
  "language_info": {
   "codemirror_mode": {
    "name": "ipython",
    "version": 3
   },
   "file_extension": ".py",
   "mimetype": "text/x-python",
   "name": "python",
   "nbconvert_exporter": "python",
   "pygments_lexer": "ipython3",
   "version": "3.6.0"
  }
 },
 "nbformat": 4,
 "nbformat_minor": 2
}
