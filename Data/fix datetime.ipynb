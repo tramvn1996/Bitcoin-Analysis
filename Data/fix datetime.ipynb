{
 "cells": [
  {
   "cell_type": "code",
   "execution_count": 1,
   "metadata": {
    "collapsed": true
   },
   "outputs": [],
   "source": [
    "import pandas as pd\n",
    "from datetime import datetime"
   ]
  },
  {
   "cell_type": "code",
   "execution_count": 17,
   "metadata": {
    "collapsed": true
   },
   "outputs": [],
   "source": [
    "btc = pd.read_csv('btc.csv', index_col=False)"
   ]
  },
  {
   "cell_type": "code",
   "execution_count": 19,
   "metadata": {
    "collapsed": false
   },
   "outputs": [],
   "source": [
    "btc['date'] =pd.to_datetime(btc['date'])"
   ]
  },
  {
   "cell_type": "code",
   "execution_count": 20,
   "metadata": {
    "collapsed": false
   },
   "outputs": [
    {
     "data": {
      "text/plain": [
       "date                   datetime64[ns]\n",
       "txVolume(USD)                 float64\n",
       "txCount                         int64\n",
       "marketcap(USD)                float64\n",
       "price(USD)                    float64\n",
       "exchangeVolume(USD)           float64\n",
       "generatedCoins                float64\n",
       "fees                          float64\n",
       "dtype: object"
      ]
     },
     "execution_count": 20,
     "metadata": {},
     "output_type": "execute_result"
    }
   ],
   "source": [
    "btc.dtypes"
   ]
  },
  {
   "cell_type": "code",
   "execution_count": 22,
   "metadata": {
    "collapsed": true
   },
   "outputs": [],
   "source": [
    "btc.to_csv(\"btc_date.csv\")"
   ]
  },
  {
   "cell_type": "code",
   "execution_count": 21,
   "metadata": {
    "collapsed": false
   },
   "outputs": [
    {
     "data": {
      "text/html": [
       "<div>\n",
       "<table border=\"1\" class=\"dataframe\">\n",
       "  <thead>\n",
       "    <tr style=\"text-align: right;\">\n",
       "      <th></th>\n",
       "      <th>date</th>\n",
       "      <th>txVolume(USD)</th>\n",
       "      <th>txCount</th>\n",
       "      <th>marketcap(USD)</th>\n",
       "      <th>price(USD)</th>\n",
       "      <th>exchangeVolume(USD)</th>\n",
       "      <th>generatedCoins</th>\n",
       "      <th>fees</th>\n",
       "    </tr>\n",
       "  </thead>\n",
       "  <tbody>\n",
       "    <tr>\n",
       "      <th>0</th>\n",
       "      <td>2013-05-01</td>\n",
       "      <td>1.086597e+08</td>\n",
       "      <td>52443</td>\n",
       "      <td>1.542820e+09</td>\n",
       "      <td>139.00</td>\n",
       "      <td>0.0</td>\n",
       "      <td>3575.0</td>\n",
       "      <td>36.806000</td>\n",
       "    </tr>\n",
       "    <tr>\n",
       "      <th>1</th>\n",
       "      <td>2013-05-02</td>\n",
       "      <td>9.695852e+07</td>\n",
       "      <td>55169</td>\n",
       "      <td>1.292190e+09</td>\n",
       "      <td>116.38</td>\n",
       "      <td>0.0</td>\n",
       "      <td>3425.0</td>\n",
       "      <td>54.407916</td>\n",
       "    </tr>\n",
       "    <tr>\n",
       "      <th>2</th>\n",
       "      <td>2013-05-03</td>\n",
       "      <td>8.445970e+07</td>\n",
       "      <td>55636</td>\n",
       "      <td>1.180070e+09</td>\n",
       "      <td>106.25</td>\n",
       "      <td>0.0</td>\n",
       "      <td>3650.0</td>\n",
       "      <td>48.526772</td>\n",
       "    </tr>\n",
       "    <tr>\n",
       "      <th>3</th>\n",
       "      <td>2013-05-04</td>\n",
       "      <td>4.154584e+07</td>\n",
       "      <td>48595</td>\n",
       "      <td>1.089890e+09</td>\n",
       "      <td>98.10</td>\n",
       "      <td>0.0</td>\n",
       "      <td>3900.0</td>\n",
       "      <td>43.419694</td>\n",
       "    </tr>\n",
       "    <tr>\n",
       "      <th>4</th>\n",
       "      <td>2013-05-05</td>\n",
       "      <td>5.620593e+07</td>\n",
       "      <td>49907</td>\n",
       "      <td>1.254760e+09</td>\n",
       "      <td>112.90</td>\n",
       "      <td>0.0</td>\n",
       "      <td>3875.0</td>\n",
       "      <td>38.408956</td>\n",
       "    </tr>\n",
       "  </tbody>\n",
       "</table>\n",
       "</div>"
      ],
      "text/plain": [
       "        date  txVolume(USD)  txCount  marketcap(USD)  price(USD)  \\\n",
       "0 2013-05-01   1.086597e+08    52443    1.542820e+09      139.00   \n",
       "1 2013-05-02   9.695852e+07    55169    1.292190e+09      116.38   \n",
       "2 2013-05-03   8.445970e+07    55636    1.180070e+09      106.25   \n",
       "3 2013-05-04   4.154584e+07    48595    1.089890e+09       98.10   \n",
       "4 2013-05-05   5.620593e+07    49907    1.254760e+09      112.90   \n",
       "\n",
       "   exchangeVolume(USD)  generatedCoins       fees  \n",
       "0                  0.0          3575.0  36.806000  \n",
       "1                  0.0          3425.0  54.407916  \n",
       "2                  0.0          3650.0  48.526772  \n",
       "3                  0.0          3900.0  43.419694  \n",
       "4                  0.0          3875.0  38.408956  "
      ]
     },
     "execution_count": 21,
     "metadata": {},
     "output_type": "execute_result"
    }
   ],
   "source": [
    "btc.head()"
   ]
  },
  {
   "cell_type": "code",
   "execution_count": null,
   "metadata": {
    "collapsed": true
   },
   "outputs": [],
   "source": []
  }
 ],
 "metadata": {
  "kernelspec": {
   "display_name": "Python 3",
   "language": "python",
   "name": "python3"
  },
  "language_info": {
   "codemirror_mode": {
    "name": "ipython",
    "version": 3
   },
   "file_extension": ".py",
   "mimetype": "text/x-python",
   "name": "python",
   "nbconvert_exporter": "python",
   "pygments_lexer": "ipython3",
   "version": "3.6.0"
  }
 },
 "nbformat": 4,
 "nbformat_minor": 2
}
